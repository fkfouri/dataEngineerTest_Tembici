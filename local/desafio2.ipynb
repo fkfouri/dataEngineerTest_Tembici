{
 "cells": [
  {
   "cell_type": "markdown",
   "metadata": {},
   "source": [
    "# Desafio 2\n",
    "## Objetivo\n",
    "\n",
    "Criar um script PYSPARK, que gere um arquivo único de output, utilizando os 3 arquivos em csv (station.csv, trip.csv e weather.csv), contendo todos os dados de viagens, acrescidos de:\n",
    "\n",
    "- Latitude/Longitude da estação de início e de fim.\n",
    "- Uma coluna com o nome \"long_trip\" de valor booleano sendo 'true' para viagens superiores a 10 minutos.\n",
    "- Condição meteorológia no dia da viagem (coluna events da tabela weather).\n",
    "- Uma coluna com o nome \"age_range\" sendo o valor de 1 para pessoas de 0-16 anos, 2 de 17-25, 3 de 26-50 e 4 para 50+.\n",
    "\n",
    " \n",
    " \n",
    " "
   ]
  },
  {
   "cell_type": "code",
   "execution_count": 1,
   "metadata": {},
   "outputs": [],
   "source": [
    "try:\n",
    "    !pip install pyspark==\"2.4.5\"  --quiet\n",
    "except:\n",
    "    print(\"Running throw py file.\")"
   ]
  },
  {
   "cell_type": "code",
   "execution_count": 2,
   "metadata": {},
   "outputs": [],
   "source": [
    "from pyspark.sql import SparkSession\n",
    "from pyspark.sql import functions as F\n",
    "import pandas as pd\n",
    "import os"
   ]
  },
  {
   "cell_type": "markdown",
   "metadata": {},
   "source": [
    "Identifica o diretorio atual e o repositorio dos arquivos CSV"
   ]
  },
  {
   "cell_type": "code",
   "execution_count": 3,
   "metadata": {},
   "outputs": [],
   "source": [
    "dirpath = os.getcwd()\n",
    "dataPath = dirpath + \"/../data\""
   ]
  },
  {
   "cell_type": "markdown",
   "metadata": {},
   "source": [
    "## Criando a session Spark"
   ]
  },
  {
   "cell_type": "code",
   "execution_count": 4,
   "metadata": {},
   "outputs": [],
   "source": [
    "spark = SparkSession\\\n",
    "        .builder\\\n",
    "        .appName(\"Teste de Data Engineer - Fabio Kfouri\")\\\n",
    "        .getOrCreate()"
   ]
  },
  {
   "cell_type": "code",
   "execution_count": 5,
   "metadata": {},
   "outputs": [
    {
     "data": {
      "text/html": [
       "\n",
       "            <div>\n",
       "                <p><b>SparkSession - in-memory</b></p>\n",
       "                \n",
       "        <div>\n",
       "            <p><b>SparkContext</b></p>\n",
       "\n",
       "            <p><a href=\"http://LAPTOP-Y520:4041\">Spark UI</a></p>\n",
       "\n",
       "            <dl>\n",
       "              <dt>Version</dt>\n",
       "                <dd><code>v2.4.5</code></dd>\n",
       "              <dt>Master</dt>\n",
       "                <dd><code>local[*]</code></dd>\n",
       "              <dt>AppName</dt>\n",
       "                <dd><code>Teste de Data Engineer - Fabio Kfouri</code></dd>\n",
       "            </dl>\n",
       "        </div>\n",
       "        \n",
       "            </div>\n",
       "        "
      ],
      "text/plain": [
       "<pyspark.sql.session.SparkSession at 0x1e02f59ac88>"
      ]
     },
     "execution_count": 5,
     "metadata": {},
     "output_type": "execute_result"
    }
   ],
   "source": [
    "spark"
   ]
  },
  {
   "cell_type": "markdown",
   "metadata": {},
   "source": [
    "## Criação dos DataFrames dos arquivos usando spark"
   ]
  },
  {
   "cell_type": "code",
   "execution_count": 6,
   "metadata": {},
   "outputs": [],
   "source": [
    "#dataFrame de station.csv\n",
    "dfs = spark.read.format(\"com.databricks.spark.csv\")\\\n",
    "    .option(\"header\",\"true\").option(\"delimiter\",\",\")\\\n",
    "    .option(\"inferSchema\", \"true\")\\\n",
    "    .load(dataPath + \"/station.csv\") "
   ]
  },
  {
   "cell_type": "code",
   "execution_count": 7,
   "metadata": {},
   "outputs": [],
   "source": [
    "#dataFrame de trip.csv\n",
    "dft = spark.read.format(\"com.databricks.spark.csv\")\\\n",
    "    .option(\"header\",\"true\").option(\"delimiter\",\",\")\\\n",
    "    .option(\"inferSchema\", \"true\")\\\n",
    "    .load(dataPath + \"/trip.csv\") "
   ]
  },
  {
   "cell_type": "code",
   "execution_count": 8,
   "metadata": {},
   "outputs": [],
   "source": [
    "#dataFrame de weather.csv\n",
    "dfw = spark.read.csv(dataPath + \"/weather.csv\", header = True, sep = \",\")"
   ]
  },
  {
   "cell_type": "markdown",
   "metadata": {},
   "source": [
    "## Identificacao dos Schemas"
   ]
  },
  {
   "cell_type": "code",
   "execution_count": 9,
   "metadata": {},
   "outputs": [
    {
     "name": "stdout",
     "output_type": "stream",
     "text": [
      "Dataframe Station\n",
      "root\n",
      " |-- station_id: string (nullable = true)\n",
      " |-- name: string (nullable = true)\n",
      " |-- lat: double (nullable = true)\n",
      " |-- long: double (nullable = true)\n",
      " |-- install_date: string (nullable = true)\n",
      " |-- install_dockcount: integer (nullable = true)\n",
      " |-- modification_date: string (nullable = true)\n",
      " |-- current_dockcount: integer (nullable = true)\n",
      " |-- decommission_date: string (nullable = true)\n",
      "\n"
     ]
    }
   ],
   "source": [
    "print(\"Dataframe Station\")\n",
    "dfs.printSchema()"
   ]
  },
  {
   "cell_type": "code",
   "execution_count": 10,
   "metadata": {},
   "outputs": [
    {
     "name": "stdout",
     "output_type": "stream",
     "text": [
      "Dataframe Trip\n",
      "root\n",
      " |-- trip_id: integer (nullable = true)\n",
      " |-- starttime: string (nullable = true)\n",
      " |-- stoptime: string (nullable = true)\n",
      " |-- bikeid: string (nullable = true)\n",
      " |-- tripduration: double (nullable = true)\n",
      " |-- from_station_name: string (nullable = true)\n",
      " |-- to_station_name: string (nullable = true)\n",
      " |-- from_station_id: string (nullable = true)\n",
      " |-- to_station_id: string (nullable = true)\n",
      " |-- usertype: string (nullable = true)\n",
      " |-- gender: string (nullable = true)\n",
      " |-- birthyear: string (nullable = true)\n",
      "\n"
     ]
    }
   ],
   "source": [
    "print(\"Dataframe Trip\")\n",
    "dft.printSchema()"
   ]
  },
  {
   "cell_type": "code",
   "execution_count": 11,
   "metadata": {},
   "outputs": [
    {
     "name": "stdout",
     "output_type": "stream",
     "text": [
      "Dataframe Weather\n",
      "root\n",
      " |-- Date: string (nullable = true)\n",
      " |-- Max_Temperature_F: string (nullable = true)\n",
      " |-- Mean_Temperature_F: string (nullable = true)\n",
      " |-- Min_TemperatureF: string (nullable = true)\n",
      " |-- Max_Dew_Point_F: string (nullable = true)\n",
      " |-- MeanDew_Point_F: string (nullable = true)\n",
      " |-- Min_Dewpoint_F: string (nullable = true)\n",
      " |-- Max_Humidity: string (nullable = true)\n",
      " |-- Mean_Humidity: string (nullable = true)\n",
      " |-- Min_Humidity: string (nullable = true)\n",
      " |-- Max_Sea_Level_Pressure_In: string (nullable = true)\n",
      " |-- Mean_Sea_Level_Pressure_In: string (nullable = true)\n",
      " |-- Min_Sea_Level_Pressure_In: string (nullable = true)\n",
      " |-- Max_Visibility_Miles: string (nullable = true)\n",
      " |-- Mean_Visibility_Miles: string (nullable = true)\n",
      " |-- Min_Visibility_Miles: string (nullable = true)\n",
      " |-- Max_Wind_Speed_MPH: string (nullable = true)\n",
      " |-- Mean_Wind_Speed_MPH: string (nullable = true)\n",
      " |-- Max_Gust_Speed_MPH: string (nullable = true)\n",
      " |-- Precipitation_In: string (nullable = true)\n",
      " |-- Events: string (nullable = true)\n",
      "\n"
     ]
    }
   ],
   "source": [
    "print(\"Dataframe Weather\")\n",
    "dfw.printSchema()"
   ]
  },
  {
   "cell_type": "markdown",
   "metadata": {},
   "source": [
    "## Correção/conversão de dados dos DataFrames"
   ]
  },
  {
   "cell_type": "code",
   "execution_count": 12,
   "metadata": {},
   "outputs": [],
   "source": [
    "#conversao de colunas [starttime, stoptime] do tipo String para o tipo timestamp\n",
    "dft = dft.withColumn('tripdate', F.date_format(F.to_timestamp('starttime', 'MM/dd/yyyy HH:mm'), 'MM/dd/yyyy'))\\\n",
    "         .withColumn('starttime', F.to_timestamp('starttime', 'MM/dd/yyyy HH:mm'))\\\n",
    "         .withColumn('stoptime', F.to_timestamp('stoptime', 'MM/dd/yyyy HH:mm'))"
   ]
  },
  {
   "cell_type": "code",
   "execution_count": 13,
   "metadata": {},
   "outputs": [
    {
     "name": "stdout",
     "output_type": "stream",
     "text": [
      "Dataframe Trip transformed.\n",
      "root\n",
      " |-- trip_id: integer (nullable = true)\n",
      " |-- starttime: timestamp (nullable = true)\n",
      " |-- stoptime: timestamp (nullable = true)\n",
      " |-- bikeid: string (nullable = true)\n",
      " |-- tripduration: double (nullable = true)\n",
      " |-- from_station_name: string (nullable = true)\n",
      " |-- to_station_name: string (nullable = true)\n",
      " |-- from_station_id: string (nullable = true)\n",
      " |-- to_station_id: string (nullable = true)\n",
      " |-- usertype: string (nullable = true)\n",
      " |-- gender: string (nullable = true)\n",
      " |-- birthyear: string (nullable = true)\n",
      " |-- tripdate: string (nullable = true)\n",
      "\n"
     ]
    }
   ],
   "source": [
    "print(\"Dataframe Trip transformed.\")\n",
    "dft.printSchema()"
   ]
  },
  {
   "cell_type": "code",
   "execution_count": 14,
   "metadata": {},
   "outputs": [],
   "source": [
    "# conversao da coluna Date do tipo String para o tipo date, em seguida formatado novamente para o tipo String\n",
    "# pois normaliza o formato de data de mês e dia com dois algarismos. (Ex. 1/2/2020 para 01/02/2020)\n",
    "dfw = dfw.withColumn(  'Date', F.date_format(F.to_date('Date', 'MM/dd/yyyy'), 'MM/dd/yyyy'))"
   ]
  },
  {
   "cell_type": "code",
   "execution_count": 15,
   "metadata": {},
   "outputs": [
    {
     "name": "stdout",
     "output_type": "stream",
     "text": [
      "Dataframe Weather transformed.\n",
      "root\n",
      " |-- Date: string (nullable = true)\n",
      " |-- Max_Temperature_F: string (nullable = true)\n",
      " |-- Mean_Temperature_F: string (nullable = true)\n",
      " |-- Min_TemperatureF: string (nullable = true)\n",
      " |-- Max_Dew_Point_F: string (nullable = true)\n",
      " |-- MeanDew_Point_F: string (nullable = true)\n",
      " |-- Min_Dewpoint_F: string (nullable = true)\n",
      " |-- Max_Humidity: string (nullable = true)\n",
      " |-- Mean_Humidity: string (nullable = true)\n",
      " |-- Min_Humidity: string (nullable = true)\n",
      " |-- Max_Sea_Level_Pressure_In: string (nullable = true)\n",
      " |-- Mean_Sea_Level_Pressure_In: string (nullable = true)\n",
      " |-- Min_Sea_Level_Pressure_In: string (nullable = true)\n",
      " |-- Max_Visibility_Miles: string (nullable = true)\n",
      " |-- Mean_Visibility_Miles: string (nullable = true)\n",
      " |-- Min_Visibility_Miles: string (nullable = true)\n",
      " |-- Max_Wind_Speed_MPH: string (nullable = true)\n",
      " |-- Mean_Wind_Speed_MPH: string (nullable = true)\n",
      " |-- Max_Gust_Speed_MPH: string (nullable = true)\n",
      " |-- Precipitation_In: string (nullable = true)\n",
      " |-- Events: string (nullable = true)\n",
      "\n"
     ]
    }
   ],
   "source": [
    "print(\"Dataframe Weather transformed.\")\n",
    "dfw.printSchema()"
   ]
  },
  {
   "cell_type": "markdown",
   "metadata": {},
   "source": [
    "## Criação de Views para representação dos DataFrames"
   ]
  },
  {
   "cell_type": "code",
   "execution_count": 16,
   "metadata": {},
   "outputs": [],
   "source": [
    "dfs.createOrReplaceTempView(\"station\")\n",
    "dft.createOrReplaceTempView(\"trip\")\n",
    "dfw.createOrReplaceTempView(\"weather\")"
   ]
  },
  {
   "cell_type": "markdown",
   "metadata": {},
   "source": [
    "## Construção de Query\n",
    "Esta query baseado no padrão ANSI, foi desenvolvida para atender os requisitos iniciais deste desafio."
   ]
  },
  {
   "cell_type": "code",
   "execution_count": 17,
   "metadata": {},
   "outputs": [],
   "source": [
    "dfOut = spark.sql(\"\"\"\n",
    "WITH local as (\n",
    "    SELECT station_id, lat, long FROM station\n",
    "), --\n",
    "meteorology as (\n",
    "    SELECT Date, Events FROM weather\n",
    ")\n",
    "SELECT t.trip_id, t.bikeid, -- id \n",
    "        /********** RELATED TO TRIP TIME *************/\n",
    "        t.starttime, t.stoptime,  t.tripduration,\n",
    "        CASE WHEN t.tripduration >= 600 THEN\n",
    "            'true'\n",
    "        ELSE\n",
    "            'false'\n",
    "        END long_trip,\n",
    "        /********** RELATED TO TRIP ORIGIN & DESTIN *************/\n",
    "        t.from_station_id, t.from_station_name, lf.lat from_lat, lf.long from_long,--origin\n",
    "        t.to_station_id, t.to_station_name, lt.lat to_lat, lt.long to_long, -- destin\n",
    "        /********** RELATED TO USER *************/\n",
    "        t.usertype, t.gender, t.birthyear,\n",
    "        CASE WHEN YEAR(current_date()) - t.birthyear <= 16 THEN 1\n",
    "             WHEN YEAR(current_date()) - t.birthyear <= 25 THEN 2\n",
    "             WHEN YEAR(current_date()) - t.birthyear <= 50 THEN 3\n",
    "             WHEN YEAR(current_date()) - t.birthyear > 50 THEN 4\n",
    "        ELSE\n",
    "            null\n",
    "        END age_range,  \n",
    "        /********** RELATED TO WEATHER *************/\n",
    "        met.Events weatherDay\n",
    "\n",
    "FROM trip t, local lf, local lt, meteorology met\n",
    "WHERE 1=1\n",
    "      AND t.from_station_id = lf.station_id\n",
    "      AND t.to_station_id = lt.station_id\n",
    "      AND t.tripdate = met.Date\n",
    "ORDER BY t.starttime\n",
    " \"\"\")\n"
   ]
  },
  {
   "cell_type": "markdown",
   "metadata": {},
   "source": [
    "Verificando a saida da Query"
   ]
  },
  {
   "cell_type": "code",
   "execution_count": 18,
   "metadata": {},
   "outputs": [
    {
     "data": {
      "text/html": [
       "<div>\n",
       "<style scoped>\n",
       "    .dataframe tbody tr th:only-of-type {\n",
       "        vertical-align: middle;\n",
       "    }\n",
       "\n",
       "    .dataframe tbody tr th {\n",
       "        vertical-align: top;\n",
       "    }\n",
       "\n",
       "    .dataframe thead th {\n",
       "        text-align: right;\n",
       "    }\n",
       "</style>\n",
       "<table border=\"1\" class=\"dataframe\">\n",
       "  <thead>\n",
       "    <tr style=\"text-align: right;\">\n",
       "      <th></th>\n",
       "      <th>trip_id</th>\n",
       "      <th>bikeid</th>\n",
       "      <th>starttime</th>\n",
       "      <th>stoptime</th>\n",
       "      <th>tripduration</th>\n",
       "      <th>long_trip</th>\n",
       "      <th>from_station_id</th>\n",
       "      <th>from_station_name</th>\n",
       "      <th>from_lat</th>\n",
       "      <th>from_long</th>\n",
       "      <th>to_station_id</th>\n",
       "      <th>to_station_name</th>\n",
       "      <th>to_lat</th>\n",
       "      <th>to_long</th>\n",
       "      <th>usertype</th>\n",
       "      <th>gender</th>\n",
       "      <th>birthyear</th>\n",
       "      <th>age_range</th>\n",
       "      <th>weatherDay</th>\n",
       "    </tr>\n",
       "  </thead>\n",
       "  <tbody>\n",
       "    <tr>\n",
       "      <th>0</th>\n",
       "      <td>431</td>\n",
       "      <td>SEA00298</td>\n",
       "      <td>2014-10-13 10:31:00</td>\n",
       "      <td>2014-10-13 10:48:00</td>\n",
       "      <td>985.935</td>\n",
       "      <td>true</td>\n",
       "      <td>CBD-06</td>\n",
       "      <td>2nd Ave &amp; Spring St</td>\n",
       "      <td>47.60595</td>\n",
       "      <td>-122.335768</td>\n",
       "      <td>PS-04</td>\n",
       "      <td>Occidental Park / Occidental Ave S &amp; S Washing...</td>\n",
       "      <td>47.600757</td>\n",
       "      <td>-122.332946</td>\n",
       "      <td>Member</td>\n",
       "      <td>Male</td>\n",
       "      <td>1960</td>\n",
       "      <td>4</td>\n",
       "      <td>Rain</td>\n",
       "    </tr>\n",
       "    <tr>\n",
       "      <th>1</th>\n",
       "      <td>431</td>\n",
       "      <td>SEA00298</td>\n",
       "      <td>2014-10-13 10:31:00</td>\n",
       "      <td>2014-10-13 10:48:00</td>\n",
       "      <td>985.935</td>\n",
       "      <td>true</td>\n",
       "      <td>CBD-06</td>\n",
       "      <td>2nd Ave &amp; Spring St</td>\n",
       "      <td>47.60595</td>\n",
       "      <td>-122.335768</td>\n",
       "      <td>PS-04</td>\n",
       "      <td>Occidental Park / Occidental Ave S &amp; S Washing...</td>\n",
       "      <td>47.600757</td>\n",
       "      <td>-122.332946</td>\n",
       "      <td>Member</td>\n",
       "      <td>Male</td>\n",
       "      <td>1960</td>\n",
       "      <td>4</td>\n",
       "      <td>Rain</td>\n",
       "    </tr>\n",
       "    <tr>\n",
       "      <th>2</th>\n",
       "      <td>432</td>\n",
       "      <td>SEA00195</td>\n",
       "      <td>2014-10-13 10:32:00</td>\n",
       "      <td>2014-10-13 10:48:00</td>\n",
       "      <td>926.375</td>\n",
       "      <td>true</td>\n",
       "      <td>CBD-06</td>\n",
       "      <td>2nd Ave &amp; Spring St</td>\n",
       "      <td>47.60595</td>\n",
       "      <td>-122.335768</td>\n",
       "      <td>PS-04</td>\n",
       "      <td>Occidental Park / Occidental Ave S &amp; S Washing...</td>\n",
       "      <td>47.600757</td>\n",
       "      <td>-122.332946</td>\n",
       "      <td>Member</td>\n",
       "      <td>Male</td>\n",
       "      <td>1970</td>\n",
       "      <td>3</td>\n",
       "      <td>Rain</td>\n",
       "    </tr>\n",
       "    <tr>\n",
       "      <th>3</th>\n",
       "      <td>432</td>\n",
       "      <td>SEA00195</td>\n",
       "      <td>2014-10-13 10:32:00</td>\n",
       "      <td>2014-10-13 10:48:00</td>\n",
       "      <td>926.375</td>\n",
       "      <td>true</td>\n",
       "      <td>CBD-06</td>\n",
       "      <td>2nd Ave &amp; Spring St</td>\n",
       "      <td>47.60595</td>\n",
       "      <td>-122.335768</td>\n",
       "      <td>PS-04</td>\n",
       "      <td>Occidental Park / Occidental Ave S &amp; S Washing...</td>\n",
       "      <td>47.600757</td>\n",
       "      <td>-122.332946</td>\n",
       "      <td>Member</td>\n",
       "      <td>Male</td>\n",
       "      <td>1970</td>\n",
       "      <td>3</td>\n",
       "      <td>Rain</td>\n",
       "    </tr>\n",
       "    <tr>\n",
       "      <th>4</th>\n",
       "      <td>433</td>\n",
       "      <td>SEA00486</td>\n",
       "      <td>2014-10-13 10:33:00</td>\n",
       "      <td>2014-10-13 10:48:00</td>\n",
       "      <td>883.831</td>\n",
       "      <td>true</td>\n",
       "      <td>CBD-06</td>\n",
       "      <td>2nd Ave &amp; Spring St</td>\n",
       "      <td>47.60595</td>\n",
       "      <td>-122.335768</td>\n",
       "      <td>PS-04</td>\n",
       "      <td>Occidental Park / Occidental Ave S &amp; S Washing...</td>\n",
       "      <td>47.600757</td>\n",
       "      <td>-122.332946</td>\n",
       "      <td>Member</td>\n",
       "      <td>Female</td>\n",
       "      <td>1988</td>\n",
       "      <td>3</td>\n",
       "      <td>Rain</td>\n",
       "    </tr>\n",
       "  </tbody>\n",
       "</table>\n",
       "</div>"
      ],
      "text/plain": [
       "   trip_id    bikeid           starttime            stoptime  tripduration  \\\n",
       "0      431  SEA00298 2014-10-13 10:31:00 2014-10-13 10:48:00       985.935   \n",
       "1      431  SEA00298 2014-10-13 10:31:00 2014-10-13 10:48:00       985.935   \n",
       "2      432  SEA00195 2014-10-13 10:32:00 2014-10-13 10:48:00       926.375   \n",
       "3      432  SEA00195 2014-10-13 10:32:00 2014-10-13 10:48:00       926.375   \n",
       "4      433  SEA00486 2014-10-13 10:33:00 2014-10-13 10:48:00       883.831   \n",
       "\n",
       "  long_trip from_station_id    from_station_name  from_lat   from_long  \\\n",
       "0      true          CBD-06  2nd Ave & Spring St  47.60595 -122.335768   \n",
       "1      true          CBD-06  2nd Ave & Spring St  47.60595 -122.335768   \n",
       "2      true          CBD-06  2nd Ave & Spring St  47.60595 -122.335768   \n",
       "3      true          CBD-06  2nd Ave & Spring St  47.60595 -122.335768   \n",
       "4      true          CBD-06  2nd Ave & Spring St  47.60595 -122.335768   \n",
       "\n",
       "  to_station_id                                    to_station_name     to_lat  \\\n",
       "0         PS-04  Occidental Park / Occidental Ave S & S Washing...  47.600757   \n",
       "1         PS-04  Occidental Park / Occidental Ave S & S Washing...  47.600757   \n",
       "2         PS-04  Occidental Park / Occidental Ave S & S Washing...  47.600757   \n",
       "3         PS-04  Occidental Park / Occidental Ave S & S Washing...  47.600757   \n",
       "4         PS-04  Occidental Park / Occidental Ave S & S Washing...  47.600757   \n",
       "\n",
       "      to_long usertype  gender birthyear  age_range weatherDay  \n",
       "0 -122.332946   Member    Male      1960          4       Rain  \n",
       "1 -122.332946   Member    Male      1960          4       Rain  \n",
       "2 -122.332946   Member    Male      1970          3       Rain  \n",
       "3 -122.332946   Member    Male      1970          3       Rain  \n",
       "4 -122.332946   Member  Female      1988          3       Rain  "
      ]
     },
     "execution_count": 18,
     "metadata": {},
     "output_type": "execute_result"
    }
   ],
   "source": [
    "dfOut.limit(5).toPandas()"
   ]
  },
  {
   "cell_type": "markdown",
   "metadata": {},
   "source": [
    "Schema do Dataframe resultante"
   ]
  },
  {
   "cell_type": "code",
   "execution_count": 19,
   "metadata": {},
   "outputs": [
    {
     "name": "stdout",
     "output_type": "stream",
     "text": [
      "Dataframe OUT created.\n",
      "root\n",
      " |-- trip_id: integer (nullable = true)\n",
      " |-- bikeid: string (nullable = true)\n",
      " |-- starttime: timestamp (nullable = true)\n",
      " |-- stoptime: timestamp (nullable = true)\n",
      " |-- tripduration: double (nullable = true)\n",
      " |-- long_trip: string (nullable = false)\n",
      " |-- from_station_id: string (nullable = true)\n",
      " |-- from_station_name: string (nullable = true)\n",
      " |-- from_lat: double (nullable = true)\n",
      " |-- from_long: double (nullable = true)\n",
      " |-- to_station_id: string (nullable = true)\n",
      " |-- to_station_name: string (nullable = true)\n",
      " |-- to_lat: double (nullable = true)\n",
      " |-- to_long: double (nullable = true)\n",
      " |-- usertype: string (nullable = true)\n",
      " |-- gender: string (nullable = true)\n",
      " |-- birthyear: string (nullable = true)\n",
      " |-- age_range: integer (nullable = true)\n",
      " |-- weatherDay: string (nullable = true)\n",
      "\n"
     ]
    }
   ],
   "source": [
    "print(\"Dataframe OUT created.\")\n",
    "dfOut.printSchema()"
   ]
  },
  {
   "cell_type": "markdown",
   "metadata": {},
   "source": [
    "## Exportando Arquivo\n",
    "<p> A exportação será de um arquivo de dados em estrutura colunar (parquet), pois permite uma leitura mais eficiente em relação a processamento e tempo, e também trás benefícios quanto ao tamanho de arquivos."
   ]
  },
  {
   "cell_type": "code",
   "execution_count": 20,
   "metadata": {},
   "outputs": [],
   "source": [
    "dfOut.coalesce(1).write.parquet(dirpath + \"/output/trips\")"
   ]
  },
  {
   "cell_type": "code",
   "execution_count": 21,
   "metadata": {},
   "outputs": [
    {
     "name": "stdout",
     "output_type": "stream",
     "text": [
      "The file was created.\n"
     ]
    }
   ],
   "source": [
    "print(\"The file was created.\")"
   ]
  }
 ],
 "metadata": {
  "kernelspec": {
   "display_name": "Python 3",
   "language": "python",
   "name": "python3"
  },
  "language_info": {
   "codemirror_mode": {
    "name": "ipython",
    "version": 3
   },
   "file_extension": ".py",
   "mimetype": "text/x-python",
   "name": "python",
   "nbconvert_exporter": "python",
   "pygments_lexer": "ipython3",
   "version": "3.7.4"
  }
 },
 "nbformat": 4,
 "nbformat_minor": 2
}
