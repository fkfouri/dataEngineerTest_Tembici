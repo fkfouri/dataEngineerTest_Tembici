{
 "cells": [
  {
   "cell_type": "markdown",
   "metadata": {},
   "source": [
    "# Sequencia para processamento em Cluster\n",
    "\n",
    "Todo o código foi baseado na biblioteca boto3.\n",
    "Para executar é necessário ter na máquina configurada as credencias da AWS conforme descrito no link https://boto3.amazonaws.com/v1/documentation/api/latest/guide/quickstart.html."
   ]
  },
  {
   "cell_type": "code",
   "execution_count": 1,
   "metadata": {},
   "outputs": [],
   "source": [
    "try:\n",
    "    !pip install boto3==\"1.13.1\" --quiet\n",
    "except:\n",
    "    print(\"Running throw py file.\")"
   ]
  },
  {
   "cell_type": "code",
   "execution_count": 2,
   "metadata": {},
   "outputs": [],
   "source": [
    "import boto3\n",
    "import os\n",
    "import json"
   ]
  },
  {
   "cell_type": "code",
   "execution_count": 3,
   "metadata": {},
   "outputs": [],
   "source": [
    "dirpath = os.getcwd()\n",
    "dataPath = dirpath + \"/../data\""
   ]
  },
  {
   "cell_type": "markdown",
   "metadata": {},
   "source": [
    "## Preparando os servicos AWS S3"
   ]
  },
  {
   "cell_type": "code",
   "execution_count": 4,
   "metadata": {},
   "outputs": [],
   "source": [
    "s3 = boto3.resource('s3')"
   ]
  },
  {
   "cell_type": "markdown",
   "metadata": {},
   "source": [
    "### Criacao de bucket chamado <span style=\"color:red\">tembici-fk</span> "
   ]
  },
  {
   "cell_type": "code",
   "execution_count": 5,
   "metadata": {},
   "outputs": [
    {
     "data": {
      "text/plain": [
       "{'ResponseMetadata': {'RequestId': '1105F1D34F0183B3',\n",
       "  'HostId': 'C6MVkxyxuoHshzEAynwDCmsQiyPWqv63h0VH8ua5YgcgWdQ8Y4vhXMKuiDCSk/QElv7+DpT7tbo=',\n",
       "  'HTTPStatusCode': 200,\n",
       "  'HTTPHeaders': {'x-amz-id-2': 'C6MVkxyxuoHshzEAynwDCmsQiyPWqv63h0VH8ua5YgcgWdQ8Y4vhXMKuiDCSk/QElv7+DpT7tbo=',\n",
       "   'x-amz-request-id': '1105F1D34F0183B3',\n",
       "   'date': 'Mon, 04 May 2020 02:37:55 GMT',\n",
       "   'location': '/tembici-fk',\n",
       "   'content-length': '0',\n",
       "   'server': 'AmazonS3'},\n",
       "  'RetryAttempts': 0},\n",
       " 'Location': '/tembici-fk'}"
      ]
     },
     "execution_count": 5,
     "metadata": {},
     "output_type": "execute_result"
    }
   ],
   "source": [
    "my_bucket = \"tembici-fk\"\n",
    "s3_client = boto3.client('s3')\n",
    "s3_client.create_bucket(Bucket=my_bucket)"
   ]
  },
  {
   "cell_type": "markdown",
   "metadata": {},
   "source": [
    "### Criando uma TAG chamada <span style=\"color:red\">tembici-test-fk</span> no bucket criado."
   ]
  },
  {
   "cell_type": "code",
   "execution_count": 6,
   "metadata": {},
   "outputs": [
    {
     "data": {
      "text/plain": [
       "{'ResponseMetadata': {'RequestId': '757EF9B402DDB944',\n",
       "  'HostId': 'InNn2fwKEZ4HnAAGJ0R/WnrZaH4DhirYjhPY54Ud4Vcx0rXxyNozhdrLUyWntV2Ys5fdxcPnBnY=',\n",
       "  'HTTPStatusCode': 204,\n",
       "  'HTTPHeaders': {'x-amz-id-2': 'InNn2fwKEZ4HnAAGJ0R/WnrZaH4DhirYjhPY54Ud4Vcx0rXxyNozhdrLUyWntV2Ys5fdxcPnBnY=',\n",
       "   'x-amz-request-id': '757EF9B402DDB944',\n",
       "   'date': 'Mon, 04 May 2020 02:37:55 GMT',\n",
       "   'server': 'AmazonS3'},\n",
       "  'RetryAttempts': 0}}"
      ]
     },
     "execution_count": 6,
     "metadata": {},
     "output_type": "execute_result"
    }
   ],
   "source": [
    "my_tag = [{'Key': 'tembici-test-fk', 'Value': ''}]\n",
    "tag={'TagSet': my_tag}\n",
    "s3_client.put_bucket_tagging(Bucket=my_bucket, Tagging=tag)"
   ]
  },
  {
   "cell_type": "markdown",
   "metadata": {},
   "source": [
    "### Exibindo os buckets existentes"
   ]
  },
  {
   "cell_type": "code",
   "execution_count": 7,
   "metadata": {},
   "outputs": [
    {
     "name": "stdout",
     "output_type": "stream",
     "text": [
      "elasticbeanstalk-us-east-1-032594213725\n",
      "estudo-aws-fabio\n",
      "estudo-aws-fk\n",
      "tembici-fk\n"
     ]
    }
   ],
   "source": [
    "for bucket in s3.buckets.all():\n",
    "    print(bucket.name)"
   ]
  },
  {
   "cell_type": "markdown",
   "metadata": {},
   "source": [
    "### Upload de data files para o bucket"
   ]
  },
  {
   "cell_type": "code",
   "execution_count": 8,
   "metadata": {},
   "outputs": [
    {
     "name": "stdout",
     "output_type": "stream",
     "text": [
      "It was uploaded the file 'station.csv' .\n",
      "It was uploaded the file 'weather.csv' .\n",
      "It was uploaded the file 'trip.csv' .\n"
     ]
    }
   ],
   "source": [
    "files = ['station.csv', 'weather.csv','trip.csv'] #'trip.csv'\n",
    "\n",
    "for file in files: \n",
    "    file_name = dataPath + \"/\" + file\n",
    "    try:\n",
    "        response = s3_client.upload_file(file_name, my_bucket, \"data/\" + file)\n",
    "        print(\"It was uploaded the file\", \"'\" + file + \"'\", \".\")\n",
    "    except ClientError as e:\n",
    "        logging.error(e)"
   ]
  },
  {
   "cell_type": "markdown",
   "metadata": {},
   "source": [
    "### Upload Zeppelin file (model) to bucket "
   ]
  },
  {
   "cell_type": "code",
   "execution_count": 9,
   "metadata": {},
   "outputs": [
    {
     "name": "stdout",
     "output_type": "stream",
     "text": [
      "It was uploaded the file 'zeppelin-tembici-test-fk.json' .\n",
      "It was uploaded the file 'zeppelin-tembici-test-fk.py' .\n"
     ]
    }
   ],
   "source": [
    "files = ['zeppelin-tembici-test-fk.json','zeppelin-tembici-test-fk.py']\n",
    "\n",
    "for file in files: \n",
    "    file_name = dirpath + \"/\" + file\n",
    "    try:\n",
    "        response = s3_client.upload_file(file_name, my_bucket, \"model/\" + file)\n",
    "        print(\"It was uploaded the file\", \"'\" + file + \"'\", \".\")\n",
    "    except ClientError as e:\n",
    "        logging.error(e)"
   ]
  },
  {
   "cell_type": "markdown",
   "metadata": {},
   "source": [
    "## Configurando um Resource Group com o nome de <span style=\"color:red\">rg-tembici-test-fk</span>"
   ]
  },
  {
   "cell_type": "code",
   "execution_count": 10,
   "metadata": {},
   "outputs": [
    {
     "name": "stdout",
     "output_type": "stream",
     "text": [
      "Resource Group was created.\n"
     ]
    }
   ],
   "source": [
    "my_resource_group = \"rg-tembici-test-fk\"\n",
    "RG_client = boto3.client('resource-groups')\n",
    "\n",
    "#AWS::AllSupported\n",
    "#AWS::S3::Bucket\n",
    "query = {\n",
    "    \"ResourceTypeFilters\": [\"AWS::AllSupported\"],\n",
    "    \"TagFilters\":  [{\n",
    "        \"Key\": my_tag[0].get(\"Key\"),\n",
    "        \"Values\": [\"\"]\n",
    "    }] \n",
    "}\n",
    "resource_query = {\n",
    "    'Type': 'TAG_FILTERS_1_0',\n",
    "    'Query': json.dumps(query)\n",
    "}\n",
    "client = boto3.client(\"resource-groups\")\n",
    "try:\n",
    "    resp = RG_client.create_group(Name=my_resource_group,ResourceQuery=resource_query)\n",
    "    print(\"Resource Group was created.\")\n",
    "except Exception as e:\n",
    "    print(e)\n"
   ]
  },
  {
   "cell_type": "markdown",
   "metadata": {},
   "source": [
    "### Criacao de um cluster EMR Cluster chamado <span style=\"color:red\">spark-tembici-test-fk</span>\n",
    "\n",
    "Foi escolhido a maquina m4.large pois tem uma dos menores custos."
   ]
  },
  {
   "cell_type": "code",
   "execution_count": 11,
   "metadata": {},
   "outputs": [],
   "source": [
    "emr_client = boto3.client('emr') #region_name='us-east-1'\n",
    "my_emr_cluster = \"spark-tembici-test-fk\"\n",
    "\n",
    "cluster_id = emr_client.run_job_flow(Name=my_emr_cluster, ReleaseLabel='emr-5.29.0',\n",
    "    LogUri='s3://tembici-fk/log/',\n",
    "    Applications=[\n",
    "        {\n",
    "            'Name': 'Spark'\n",
    "        },\n",
    "    ],\n",
    "    Instances={\n",
    "        'InstanceGroups': [\n",
    "            {\n",
    "                'Name': \"Master\",\n",
    "                'Market': 'ON_DEMAND',\n",
    "                'InstanceRole': 'MASTER',\n",
    "                'InstanceType': 'm4.large',\n",
    "                'InstanceCount': 1,\n",
    "            },\n",
    "            {\n",
    "                'Name': \"Slave\",\n",
    "                'Market': 'ON_DEMAND',\n",
    "                'InstanceRole': 'CORE',\n",
    "                'InstanceType': 'm4.large',\n",
    "                'InstanceCount': 2,\n",
    "            }\n",
    "        ],\n",
    "        'KeepJobFlowAliveWhenNoSteps': False,\n",
    "        'TerminationProtected': False,\n",
    "    },\n",
    "    Steps=[\n",
    "        {\n",
    "            'Name': 'Spark application',   \n",
    "                    'ActionOnFailure': 'CONTINUE',\n",
    "                    'HadoopJarStep': {\n",
    "                        'Jar': 'command-runner.jar',\n",
    "                        'Args': [\"spark-submit\",\"--deploy-mode\",\"cluster\",\"s3://tembici-fk/model/zeppelin-tembici-test-fk.py\"]\n",
    "                    }\n",
    "        }        \n",
    "    ],                                    \n",
    "    VisibleToAllUsers=True,\n",
    "    JobFlowRole='EMR_EC2_DefaultRole',\n",
    "    ServiceRole='EMR_DefaultRole',\n",
    "    Tags=[\n",
    "        {\n",
    "            'Key': 'tembici-test-fk',\n",
    "            'Value': ''\n",
    "        },\n",
    "    ],\n",
    ")\n"
   ]
  },
  {
   "cell_type": "markdown",
   "metadata": {},
   "source": [
    "# Verificaçao da Saida\n",
    "Verificar na S3 \"tembici-fk\" a existencia de um arquivo na pasta \"output/trips/\" do tipo parquet com cerca de 7.4 Mb.\n",
    "\n",
    "Este é o arquivo esperado pelo o desafio 2 do processo Tembici."
   ]
  },
  {
   "cell_type": "markdown",
   "metadata": {},
   "source": [
    "# Removendo as configuracoes de S3 e Resource Groups\n",
    "### Remocao do Resource Group"
   ]
  },
  {
   "cell_type": "code",
   "execution_count": 12,
   "metadata": {},
   "outputs": [
    {
     "data": {
      "text/plain": [
       "{'ResponseMetadata': {'RequestId': 'f3bbfd44-2713-4684-b812-99d2dcde90c3',\n",
       "  'HTTPStatusCode': 200,\n",
       "  'HTTPHeaders': {'date': 'Mon, 04 May 2020 02:56:04 GMT',\n",
       "   'content-type': 'application/json',\n",
       "   'content-length': '149',\n",
       "   'connection': 'keep-alive',\n",
       "   'x-amzn-requestid': 'f3bbfd44-2713-4684-b812-99d2dcde90c3',\n",
       "   'x-amz-apigw-id': 'L_GawHyxoAMF--w=',\n",
       "   'x-amzn-trace-id': 'Root=1-5eaf8444-e05724181240570048912fd0;Sampled=1'},\n",
       "  'RetryAttempts': 0},\n",
       " 'Group': {'GroupArn': 'arn:aws:resource-groups:us-east-1:032594213725:group/rg-tembici-test-fk',\n",
       "  'Name': 'rg-tembici-test-fk'}}"
      ]
     },
     "execution_count": 12,
     "metadata": {},
     "output_type": "execute_result"
    }
   ],
   "source": [
    "RG_client.delete_group(GroupName=my_resource_group)"
   ]
  },
  {
   "cell_type": "markdown",
   "metadata": {},
   "source": [
    "### Remocao de todos os arquivos do Bucket"
   ]
  },
  {
   "cell_type": "code",
   "execution_count": 13,
   "metadata": {},
   "outputs": [
    {
     "data": {
      "text/plain": [
       "[{'ResponseMetadata': {'RequestId': 'B45EFCE91581FCF7',\n",
       "   'HostId': 'Liz8JWsAo37cg+6ZXE4dEdkA6i+ZC0qpchIDFO3ZRpX5lE7JLKqCDYW6tFAjQ8Fl6AEQvt8+y+w=',\n",
       "   'HTTPStatusCode': 200,\n",
       "   'HTTPHeaders': {'x-amz-id-2': 'Liz8JWsAo37cg+6ZXE4dEdkA6i+ZC0qpchIDFO3ZRpX5lE7JLKqCDYW6tFAjQ8Fl6AEQvt8+y+w=',\n",
       "    'x-amz-request-id': 'B45EFCE91581FCF7',\n",
       "    'date': 'Mon, 04 May 2020 02:56:10 GMT',\n",
       "    'connection': 'close',\n",
       "    'content-type': 'application/xml',\n",
       "    'transfer-encoding': 'chunked',\n",
       "    'server': 'AmazonS3'},\n",
       "   'RetryAttempts': 0},\n",
       "  'Deleted': [{'Key': 'log/j-QT7175VZF6OL/node/i-03803a99bc4c3a78b/applications/hadoop-hdfs/hadoop-hdfs-datanode-ip-172-31-87-36.log.gz'},\n",
       "   {'Key': 'log/j-QT7175VZF6OL/node/i-040f0ab09d99030b1/daemons/instance-state/console.log-2020-05-04-02-44.gz'},\n",
       "   {'Key': 'log/j-QT7175VZF6OL/node/i-03803a99bc4c3a78b/setup-devices/setup_var_log_dir.log.gz'},\n",
       "   {'Key': 'log/j-QT7175VZF6OL/node/i-0b917cec94ffb68ca/provision-node/reports/0/f27c9bfd-fc1c-47f3-98c5-7627e3d2e92c/ip-172-31-93-83.ec2.internal/202005040250.puppetreport.json.gz'},\n",
       "   {'Key': 'log/j-QT7175VZF6OL/node/i-03803a99bc4c3a78b/daemons/instance-state/console.log-2020-05-04-02-48.gz'},\n",
       "   {'Key': 'log/j-QT7175VZF6OL/containers/application_1588560630323_0001/container_1588560630323_0001_01_000001/stderr.gz'},\n",
       "   {'Key': 'log/j-QT7175VZF6OL/node/i-0b917cec94ffb68ca/applications/hadoop-mapreduce/mapred-mapred-historyserver-ip-172-31-93-83.log.gz'},\n",
       "   {'Key': 'log/j-QT7175VZF6OL/node/i-040f0ab09d99030b1/provision-node/apps-phase/install.stderr.gz'},\n",
       "   {'Key': 'log/j-QT7175VZF6OL/node/i-0b917cec94ffb68ca/setup-devices/DiskEncryptor.log.gz'},\n",
       "   {'Key': 'log/j-QT7175VZF6OL/node/i-0b917cec94ffb68ca/applications/hadoop-yarn/yarn-yarn-timelineserver-ip-172-31-93-83.log.gz'},\n",
       "   {'Key': 'log/j-QT7175VZF6OL/node/i-03803a99bc4c3a78b/provision-node/7494982b-f231-482d-8536-52ef3f7ee863/stderr.gz'},\n",
       "   {'Key': 'log/j-QT7175VZF6OL/node/i-0b917cec94ffb68ca/applications/hadoop-yarn/yarn-yarn-timelineserver-ip-172-31-93-83.out.gz'},\n",
       "   {'Key': 'log/j-QT7175VZF6OL/node/i-0b917cec94ffb68ca/daemons/setup-dns.log.gz'},\n",
       "   {'Key': 'log/j-QT7175VZF6OL/node/i-040f0ab09d99030b1/provision-node/reports/0/7ed83b17-131c-4d9d-ba13-4a4238c1d276/ip-172-31-88-129.ec2.internal/202005040249.puppetreport.json.gz'},\n",
       "   {'Key': 'log/j-QT7175VZF6OL/node/i-0b917cec94ffb68ca/applications/hadoop-kms/kms.log.gz'},\n",
       "   {'Key': 'log/j-QT7175VZF6OL/node/i-040f0ab09d99030b1/provision-node/7ed83b17-131c-4d9d-ba13-4a4238c1d276/controller.gz'},\n",
       "   {'Key': 'log/j-QT7175VZF6OL/node/i-0b917cec94ffb68ca/applications/hadoop-yarn/yarn-yarn-resourcemanager-ip-172-31-93-83.log.gz'},\n",
       "   {'Key': 'log/j-QT7175VZF6OL/node/i-0b917cec94ffb68ca/provision-node/apps-phase/0/f27c9bfd-fc1c-47f3-98c5-7627e3d2e92c/puppet.log.gz'},\n",
       "   {'Key': 'log/j-QT7175VZF6OL/node/i-0b917cec94ffb68ca/applications/hadoop-hdfs/nn.format.log.gz'},\n",
       "   {'Key': 'log/j-QT7175VZF6OL/node/i-0b917cec94ffb68ca/applications/hadoop-kms/kms-catalina.2020-05-04.log.gz'},\n",
       "   {'Key': 'log/j-QT7175VZF6OL/node/i-040f0ab09d99030b1/setup-devices/setup_drives.log.gz'},\n",
       "   {'Key': 'log/j-QT7175VZF6OL/node/i-040f0ab09d99030b1/provision-node/apps-phase/0/7ed83b17-131c-4d9d-ba13-4a4238c1d276/stdout.gz'},\n",
       "   {'Key': 'output/trips/_SUCCESS'},\n",
       "   {'Key': 'log/j-QT7175VZF6OL/node/i-040f0ab09d99030b1/provision-node/apps-phase/0/7ed83b17-131c-4d9d-ba13-4a4238c1d276/stderr.gz'},\n",
       "   {'Key': 'log/j-QT7175VZF6OL/node/i-0b917cec94ffb68ca/bootstrap-actions/master.log.gz'},\n",
       "   {'Key': 'log/j-QT7175VZF6OL/node/i-040f0ab09d99030b1/daemons/instance-state/console.log-2020-05-04-02-48.gz'},\n",
       "   {'Key': 'log/j-QT7175VZF6OL/node/i-040f0ab09d99030b1/applications/hadoop-hdfs/hadoop-hdfs-datanode-ip-172-31-88-129.log.gz'},\n",
       "   {'Key': 'log/j-QT7175VZF6OL/node/i-0b917cec94ffb68ca/setup-devices/setup_tmp_dir.log.gz'},\n",
       "   {'Key': 'log/j-QT7175VZF6OL/node/i-03803a99bc4c3a78b/daemons/setup-dns.log.gz'},\n",
       "   {'Key': 'log/j-QT7175VZF6OL/node/i-0b917cec94ffb68ca/applications/hadoop-kms/kms-catalina.out.gz'},\n",
       "   {'Key': 'log/j-QT7175VZF6OL/node/i-03803a99bc4c3a78b/setup-devices/DiskEncryptor.log.gz'},\n",
       "   {'Key': 'log/j-QT7175VZF6OL/node/i-0b917cec94ffb68ca/applications/hadoop/steps/s-3IAURX1TB1CHR/controller.gz'},\n",
       "   {'Key': 'log/j-QT7175VZF6OL/node/i-0b917cec94ffb68ca/applications/hadoop-hdfs/hadoop-hdfs-namenode-ip-172-31-93-83.out.gz'},\n",
       "   {'Key': 'log/j-QT7175VZF6OL/node/i-0b917cec94ffb68ca/applications/hadoop-httpfs/httpfs.log.gz'},\n",
       "   {'Key': 'log/j-QT7175VZF6OL/containers/application_1588560630323_0001/container_1588560630323_0001_01_000001/stdout.gz'},\n",
       "   {'Key': 'log/j-QT7175VZF6OL/containers/application_1588560630323_0001/container_1588560630323_0001_01_000002/stdout.gz'},\n",
       "   {'Key': 'log/j-QT7175VZF6OL/node/i-03803a99bc4c3a78b/provision-node/apps-phase/install.stderr.gz'},\n",
       "   {'Key': 'log/j-QT7175VZF6OL/node/i-040f0ab09d99030b1/daemons/instance-state/console.log-2020-05-04-02-47.gz'},\n",
       "   {'Key': 'log/j-QT7175VZF6OL/node/i-03803a99bc4c3a78b/daemons/instance-state/console.log-2020-05-04-02-47.gz'},\n",
       "   {'Key': 'log/j-QT7175VZF6OL/node/i-040f0ab09d99030b1/setup-devices/setup_emr_metrics.log.gz'},\n",
       "   {'Key': 'log/j-QT7175VZF6OL/node/i-03803a99bc4c3a78b/provision-node/apps-phase/0/7494982b-f231-482d-8536-52ef3f7ee863/puppet.log.gz'},\n",
       "   {'Key': 'log/j-QT7175VZF6OL/node/i-0b917cec94ffb68ca/setup-devices/setup_drives.log.gz'},\n",
       "   {'Key': 'log/j-QT7175VZF6OL/node/i-040f0ab09d99030b1/setup-devices/setup_var_log_dir.log.gz'},\n",
       "   {'Key': 'log/j-QT7175VZF6OL/node/i-03803a99bc4c3a78b/daemons/instance-state/console.log-2020-05-04-02-45.gz'},\n",
       "   {'Key': 'log/j-QT7175VZF6OL/node/i-0b917cec94ffb68ca/applications/hadoop-httpfs/httpfs-catalina.out.gz'},\n",
       "   {'Key': 'log/j-QT7175VZF6OL/node/i-0b917cec94ffb68ca/applications/hadoop-yarn/yarn-yarn-proxyserver-ip-172-31-93-83.out.gz'},\n",
       "   {'Key': 'log/j-QT7175VZF6OL/node/i-03803a99bc4c3a78b/daemons/instance-state/console.log-2020-05-04-02-40.gz'},\n",
       "   {'Key': 'log/j-QT7175VZF6OL/node/i-03803a99bc4c3a78b/provision-node/apps-phase/0/7494982b-f231-482d-8536-52ef3f7ee863/stderr.gz'},\n",
       "   {'Key': 'output/trips/part-00000-649996e5-4137-41a4-a5a8-f4d623c31d2c-c000.snappy.parquet'},\n",
       "   {'Key': 'log/j-QT7175VZF6OL/node/i-040f0ab09d99030b1/provision-node/apps-phase/0/7ed83b17-131c-4d9d-ba13-4a4238c1d276/puppet.log.gz'},\n",
       "   {'Key': 'log/j-QT7175VZF6OL/steps/s-3IAURX1TB1CHR/stderr.gz'},\n",
       "   {'Key': 'log/j-QT7175VZF6OL/node/i-0b917cec94ffb68ca/provision-node/reports/0/f27c9bfd-fc1c-47f3-98c5-7627e3d2e92c/ip-172-31-93-83.ec2.internal/202005040250.yaml.gz'},\n",
       "   {'Key': 'data/weather.csv'},\n",
       "   {'Key': 'log/j-QT7175VZF6OL/node/i-040f0ab09d99030b1/daemons/instance-state/instance-state.log-2020-05-04-02-45.gz'},\n",
       "   {'Key': 'log/j-QT7175VZF6OL/node/i-0b917cec94ffb68ca/provision-node/apps-phase/install.stderr.gz'},\n",
       "   {'Key': 'log/j-QT7175VZF6OL/node/i-040f0ab09d99030b1/daemons/instance-state/console.log-2020-05-04-02-42.gz'},\n",
       "   {'Key': 'log/j-QT7175VZF6OL/node/i-040f0ab09d99030b1/daemons/setup-dns.log.gz'},\n",
       "   {'Key': 'log/j-QT7175VZF6OL/node/i-0b917cec94ffb68ca/provision-node/f27c9bfd-fc1c-47f3-98c5-7627e3d2e92c/controller.gz'},\n",
       "   {'Key': 'log/j-QT7175VZF6OL/node/i-03803a99bc4c3a78b/setup-devices/setup_emr_metrics.log.gz'},\n",
       "   {'Key': 'log/j-QT7175VZF6OL/node/i-0b917cec94ffb68ca/applications/hadoop-yarn/yarn-yarn-proxyserver-ip-172-31-93-83.log.gz'},\n",
       "   {'Key': 'log/j-QT7175VZF6OL/node/i-0b917cec94ffb68ca/applications/hadoop-mapreduce/mapred-mapred-historyserver-ip-172-31-93-83.out.gz'},\n",
       "   {'Key': 'log/j-QT7175VZF6OL/node/i-0b917cec94ffb68ca/applications/hadoop-httpfs/httpfs-catalina.2020-05-04.log.gz'},\n",
       "   {'Key': 'log/j-QT7175VZF6OL/steps/s-3IAURX1TB1CHR/controller.gz'},\n",
       "   {'Key': 'log/j-QT7175VZF6OL/node/i-040f0ab09d99030b1/provision-node/reports/0/7ed83b17-131c-4d9d-ba13-4a4238c1d276/ip-172-31-88-129.ec2.internal/202005040249.yaml.gz'},\n",
       "   {'Key': 'log/j-QT7175VZF6OL/node/i-040f0ab09d99030b1/setup-devices/DiskEncryptor.log.gz'},\n",
       "   {'Key': 'log/j-QT7175VZF6OL/node/i-0b917cec94ffb68ca/applications/hadoop-yarn/yarn-yarn-resourcemanager-ip-172-31-93-83.out.gz'},\n",
       "   {'Key': 'log/j-QT7175VZF6OL/node/i-0b917cec94ffb68ca/setup-devices/setup_var_cache_dir.log.gz'},\n",
       "   {'Key': 'data/trip.csv'},\n",
       "   {'Key': 'log/j-QT7175VZF6OL/node/i-03803a99bc4c3a78b/setup-devices/setup_var_tmp_dir.log.gz'},\n",
       "   {'Key': 'log/j-QT7175VZF6OL/node/i-0b917cec94ffb68ca/provision-node/apps-phase/0/f27c9bfd-fc1c-47f3-98c5-7627e3d2e92c/stdout.gz'},\n",
       "   {'Key': 'log/j-QT7175VZF6OL/node/i-03803a99bc4c3a78b/daemons/instance-state/console.log-2020-05-04-02-42.gz'},\n",
       "   {'Key': 'log/j-QT7175VZF6OL/node/i-040f0ab09d99030b1/daemons/instance-state/console.log-2020-05-04-02-43.gz'},\n",
       "   {'Key': 'log/j-QT7175VZF6OL/node/i-0b917cec94ffb68ca/provision-node/apps-phase/0/f27c9bfd-fc1c-47f3-98c5-7627e3d2e92c/stderr.gz'},\n",
       "   {'Key': 'log/j-QT7175VZF6OL/node/i-040f0ab09d99030b1/daemons/instance-state/console.log-2020-05-04-02-40.gz'},\n",
       "   {'Key': 'log/j-QT7175VZF6OL/node/i-040f0ab09d99030b1/applications/hadoop-hdfs/hadoop-hdfs-datanode-ip-172-31-88-129.out.gz'},\n",
       "   {'Key': 'log/j-QT7175VZF6OL/node/i-040f0ab09d99030b1/applications/hadoop-yarn/yarn-yarn-nodemanager-ip-172-31-88-129.log.gz'},\n",
       "   {'Key': 'log/j-QT7175VZF6OL/node/i-03803a99bc4c3a78b/daemons/instance-state/console.log-2020-05-04-02-44.gz'},\n",
       "   {'Key': 'log/j-QT7175VZF6OL/node/i-03803a99bc4c3a78b/daemons/instance-state/console.log-2020-05-04-02-41.gz'},\n",
       "   {'Key': 'log/j-QT7175VZF6OL/node/i-040f0ab09d99030b1/setup-devices/setup_var_lib_dir.log.gz'},\n",
       "   {'Key': 'log/j-QT7175VZF6OL/node/i-040f0ab09d99030b1/applications/hadoop-yarn/yarn-yarn-nodemanager-ip-172-31-88-129.out.gz'},\n",
       "   {'Key': 'log/j-QT7175VZF6OL/node/i-03803a99bc4c3a78b/provision-node/reports/0/7494982b-f231-482d-8536-52ef3f7ee863/ip-172-31-87-36.ec2.internal/202005040249.puppetreport.json.gz'},\n",
       "   {'Key': 'log/j-QT7175VZF6OL/node/i-03803a99bc4c3a78b/applications/hadoop-hdfs/hadoop-hdfs-datanode-ip-172-31-87-36.out.gz'},\n",
       "   {'Key': 'log/j-QT7175VZF6OL/node/i-03803a99bc4c3a78b/daemons/instance-state/console.log-2020-05-04-02-43.gz'},\n",
       "   {'Key': 'model/zeppelin-tembici-test-fk.py'},\n",
       "   {'Key': 'log/j-QT7175VZF6OL/node/i-03803a99bc4c3a78b/applications/hadoop-yarn/yarn-yarn-nodemanager-ip-172-31-87-36.log.gz'},\n",
       "   {'Key': 'log/j-QT7175VZF6OL/node/i-03803a99bc4c3a78b/setup-devices/setup_var_lib_dir.log.gz'},\n",
       "   {'Key': 'log/j-QT7175VZF6OL/node/i-0b917cec94ffb68ca/applications/livy/livy-livy-server.out.gz'},\n",
       "   {'Key': 'log/j-QT7175VZF6OL/node/i-040f0ab09d99030b1/setup-devices/setup_tmp_dir.log.gz'},\n",
       "   {'Key': 'log/j-QT7175VZF6OL/node/i-0b917cec94ffb68ca/setup-devices/setup_emr_metrics.log.gz'},\n",
       "   {'Key': 'log/j-QT7175VZF6OL/node/i-0b917cec94ffb68ca/setup-devices/setup_var_tmp_dir.log.gz'},\n",
       "   {'Key': 'log/j-QT7175VZF6OL/node/i-03803a99bc4c3a78b/setup-devices/setup_drives.log.gz'},\n",
       "   {'Key': 'log/j-QT7175VZF6OL/node/i-03803a99bc4c3a78b/daemons/instance-state/instance-state.log-2020-05-04-02-45.gz'},\n",
       "   {'Key': 'log/j-QT7175VZF6OL/node/i-03803a99bc4c3a78b/setup-devices/setup_var_cache_dir.log.gz'},\n",
       "   {'Key': 'log/j-QT7175VZF6OL/node/i-0b917cec94ffb68ca/applications/spark/spark-history-server.out.gz'},\n",
       "   {'Key': 'data/station.csv'},\n",
       "   {'Key': 'log/j-QT7175VZF6OL/node/i-040f0ab09d99030b1/daemons/instance-state/console.log-2020-05-04-02-46.gz'},\n",
       "   {'Key': 'model/zeppelin-tembici-test-fk.json'},\n",
       "   {'Key': 'log/j-QT7175VZF6OL/node/i-03803a99bc4c3a78b/applications/hadoop-yarn/yarn-yarn-nodemanager-ip-172-31-87-36.out.gz'},\n",
       "   {'Key': 'log/j-QT7175VZF6OL/node/i-03803a99bc4c3a78b/provision-node/7494982b-f231-482d-8536-52ef3f7ee863/controller.gz'},\n",
       "   {'Key': 'log/j-QT7175VZF6OL/node/i-040f0ab09d99030b1/setup-devices/setup_var_tmp_dir.log.gz'},\n",
       "   {'Key': 'log/j-QT7175VZF6OL/node/i-0b917cec94ffb68ca/applications/hadoop/steps/s-3IAURX1TB1CHR/stderr.gz'},\n",
       "   {'Key': 'log/j-QT7175VZF6OL/node/i-0b917cec94ffb68ca/provision-node/f27c9bfd-fc1c-47f3-98c5-7627e3d2e92c/stderr.gz'},\n",
       "   {'Key': 'log/j-QT7175VZF6OL/node/i-03803a99bc4c3a78b/setup-devices/setup_tmp_dir.log.gz'},\n",
       "   {'Key': 'log/j-QT7175VZF6OL/node/i-03803a99bc4c3a78b/daemons/instance-state/console.log-2020-05-04-02-46.gz'},\n",
       "   {'Key': 'log/j-QT7175VZF6OL/node/i-040f0ab09d99030b1/daemons/instance-state/console.log-2020-05-04-02-41.gz'},\n",
       "   {'Key': 'log/j-QT7175VZF6OL/node/i-040f0ab09d99030b1/setup-devices/setup_var_cache_dir.log.gz'},\n",
       "   {'Key': 'log/j-QT7175VZF6OL/node/i-03803a99bc4c3a78b/provision-node/reports/0/7494982b-f231-482d-8536-52ef3f7ee863/ip-172-31-87-36.ec2.internal/202005040249.yaml.gz'},\n",
       "   {'Key': 'log/j-QT7175VZF6OL/node/i-03803a99bc4c3a78b/provision-node/apps-phase/0/7494982b-f231-482d-8536-52ef3f7ee863/stdout.gz'},\n",
       "   {'Key': 'log/j-QT7175VZF6OL/node/i-0b917cec94ffb68ca/setup-devices/setup_var_log_dir.log.gz'},\n",
       "   {'Key': 'log/j-QT7175VZF6OL/node/i-040f0ab09d99030b1/provision-node/7ed83b17-131c-4d9d-ba13-4a4238c1d276/stderr.gz'},\n",
       "   {'Key': 'log/j-QT7175VZF6OL/node/i-0b917cec94ffb68ca/setup-devices/setup_var_lib_dir.log.gz'},\n",
       "   {'Key': 'log/j-QT7175VZF6OL/node/i-0b917cec94ffb68ca/daemons/instance-state/console.log-2020-05-04-02-46.gz'},\n",
       "   {'Key': 'log/j-QT7175VZF6OL/containers/application_1588560630323_0001/container_1588560630323_0001_01_000002/stderr.gz'},\n",
       "   {'Key': 'log/j-QT7175VZF6OL/node/i-0b917cec94ffb68ca/applications/hadoop-hdfs/hadoop-hdfs-namenode-ip-172-31-93-83.log.gz'},\n",
       "   {'Key': 'log/j-QT7175VZF6OL/node/i-040f0ab09d99030b1/daemons/instance-state/console.log-2020-05-04-02-45.gz'}]}]"
      ]
     },
     "execution_count": 13,
     "metadata": {},
     "output_type": "execute_result"
    }
   ],
   "source": [
    "bucket = s3.Bucket(my_bucket)\n",
    "bucket.objects.all().delete()"
   ]
  },
  {
   "cell_type": "markdown",
   "metadata": {},
   "source": [
    "### Remocao do bucket"
   ]
  },
  {
   "cell_type": "code",
   "execution_count": 14,
   "metadata": {},
   "outputs": [
    {
     "data": {
      "text/plain": [
       "{'ResponseMetadata': {'RequestId': 'A2277F30CB36165F',\n",
       "  'HostId': 'yJokDWgKLSF4HKV77ceA3yePQRMY6OS8Y+738Yv3kVCpEXrM4SCdys4bD7MHmAB9ECUEMNXUfhc=',\n",
       "  'HTTPStatusCode': 204,\n",
       "  'HTTPHeaders': {'x-amz-id-2': 'yJokDWgKLSF4HKV77ceA3yePQRMY6OS8Y+738Yv3kVCpEXrM4SCdys4bD7MHmAB9ECUEMNXUfhc=',\n",
       "   'x-amz-request-id': 'A2277F30CB36165F',\n",
       "   'date': 'Mon, 04 May 2020 02:56:15 GMT',\n",
       "   'server': 'AmazonS3'},\n",
       "  'RetryAttempts': 0}}"
      ]
     },
     "execution_count": 14,
     "metadata": {},
     "output_type": "execute_result"
    }
   ],
   "source": [
    "s3_client.delete_bucket(Bucket=my_bucket)"
   ]
  },
  {
   "cell_type": "code",
   "execution_count": null,
   "metadata": {},
   "outputs": [],
   "source": []
  }
 ],
 "metadata": {
  "kernelspec": {
   "display_name": "Python 3",
   "language": "python",
   "name": "python3"
  },
  "language_info": {
   "codemirror_mode": {
    "name": "ipython",
    "version": 3
   },
   "file_extension": ".py",
   "mimetype": "text/x-python",
   "name": "python",
   "nbconvert_exporter": "python",
   "pygments_lexer": "ipython3",
   "version": "3.7.4"
  }
 },
 "nbformat": 4,
 "nbformat_minor": 2
}
