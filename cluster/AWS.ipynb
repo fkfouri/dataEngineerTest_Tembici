{
 "cells": [
  {
   "cell_type": "markdown",
   "metadata": {},
   "source": [
    "# comando para criar um Bucket na AWS"
   ]
  },
  {
   "cell_type": "code",
   "execution_count": 1,
   "metadata": {},
   "outputs": [],
   "source": [
    "try:\n",
    "    !pip install boto3==\"1.13.1\" --quiet\n",
    "except:\n",
    "    print(\"Running throw py file.\")"
   ]
  },
  {
   "cell_type": "code",
   "execution_count": 2,
   "metadata": {},
   "outputs": [],
   "source": [
    "import boto3\n",
    "import os\n",
    "import json"
   ]
  },
  {
   "cell_type": "code",
   "execution_count": 3,
   "metadata": {},
   "outputs": [],
   "source": [
    "dirpath = os.getcwd()\n",
    "dataPath = dirpath + \"/../data\""
   ]
  },
  {
   "cell_type": "markdown",
   "metadata": {},
   "source": [
    "## Preparando os servicos AWS S3"
   ]
  },
  {
   "cell_type": "code",
   "execution_count": 4,
   "metadata": {},
   "outputs": [],
   "source": [
    "s3 = boto3.resource('s3')"
   ]
  },
  {
   "cell_type": "markdown",
   "metadata": {},
   "source": [
    "### Criacao de bucket chamado <span style=\"color:red\">tembici-fk</span> "
   ]
  },
  {
   "cell_type": "code",
   "execution_count": 5,
   "metadata": {},
   "outputs": [
    {
     "data": {
      "text/plain": [
       "{'ResponseMetadata': {'RequestId': 'D441DCDE1790E7C7',\n",
       "  'HostId': 'NTxnd+8LdBov53E46pKBZyHbBuNElKsAfmJEDuYetsZlJ70ni1hF/NcGFOp5lS3iHk91ouQ6New=',\n",
       "  'HTTPStatusCode': 200,\n",
       "  'HTTPHeaders': {'x-amz-id-2': 'NTxnd+8LdBov53E46pKBZyHbBuNElKsAfmJEDuYetsZlJ70ni1hF/NcGFOp5lS3iHk91ouQ6New=',\n",
       "   'x-amz-request-id': 'D441DCDE1790E7C7',\n",
       "   'date': 'Mon, 04 May 2020 02:00:47 GMT',\n",
       "   'location': '/tembici-fk',\n",
       "   'content-length': '0',\n",
       "   'server': 'AmazonS3'},\n",
       "  'RetryAttempts': 0},\n",
       " 'Location': '/tembici-fk'}"
      ]
     },
     "execution_count": 5,
     "metadata": {},
     "output_type": "execute_result"
    }
   ],
   "source": [
    "my_bucket = \"tembici-fk\"\n",
    "s3_client = boto3.client('s3')\n",
    "s3_client.create_bucket(Bucket=my_bucket)"
   ]
  },
  {
   "cell_type": "markdown",
   "metadata": {},
   "source": [
    "### Criando uma TAG chamada <span style=\"color:red\">tembici-test-fk</span> no bucket criado."
   ]
  },
  {
   "cell_type": "code",
   "execution_count": 6,
   "metadata": {},
   "outputs": [
    {
     "data": {
      "text/plain": [
       "{'ResponseMetadata': {'RequestId': '801AD24A6B87A598',\n",
       "  'HostId': '8JD46b9fs1YHGHbBKyp+Yfl08mOGoRdowGRyvaJLFRbjbIBeJvqWMilT8NcNmS6aHJ/MxJ8gDD0=',\n",
       "  'HTTPStatusCode': 204,\n",
       "  'HTTPHeaders': {'x-amz-id-2': '8JD46b9fs1YHGHbBKyp+Yfl08mOGoRdowGRyvaJLFRbjbIBeJvqWMilT8NcNmS6aHJ/MxJ8gDD0=',\n",
       "   'x-amz-request-id': '801AD24A6B87A598',\n",
       "   'date': 'Mon, 04 May 2020 02:00:47 GMT',\n",
       "   'server': 'AmazonS3'},\n",
       "  'RetryAttempts': 0}}"
      ]
     },
     "execution_count": 6,
     "metadata": {},
     "output_type": "execute_result"
    }
   ],
   "source": [
    "my_tag = [{'Key': 'tembici-test-fk', 'Value': ''}]\n",
    "tag={'TagSet': my_tag}\n",
    "s3_client.put_bucket_tagging(Bucket=my_bucket, Tagging=tag)"
   ]
  },
  {
   "cell_type": "markdown",
   "metadata": {},
   "source": [
    "### Exibindo os buckets existentes"
   ]
  },
  {
   "cell_type": "code",
   "execution_count": 7,
   "metadata": {},
   "outputs": [
    {
     "name": "stdout",
     "output_type": "stream",
     "text": [
      "elasticbeanstalk-us-east-1-032594213725\n",
      "estudo-aws-fabio\n",
      "estudo-aws-fk\n",
      "tembici-fk\n"
     ]
    }
   ],
   "source": [
    "for bucket in s3.buckets.all():\n",
    "    print(bucket.name)"
   ]
  },
  {
   "cell_type": "markdown",
   "metadata": {},
   "source": [
    "### Upload de data files para o bucket"
   ]
  },
  {
   "cell_type": "code",
   "execution_count": 8,
   "metadata": {},
   "outputs": [
    {
     "name": "stdout",
     "output_type": "stream",
     "text": [
      "It was uploaded the file 'station.csv' .\n",
      "It was uploaded the file 'weather.csv' .\n",
      "It was uploaded the file 'trip.csv' .\n"
     ]
    }
   ],
   "source": [
    "files = ['station.csv', 'weather.csv','trip.csv'] #'trip.csv'\n",
    "\n",
    "for file in files: \n",
    "    file_name = dataPath + \"/\" + file\n",
    "    try:\n",
    "        response = s3_client.upload_file(file_name, my_bucket, \"data/\" + file)\n",
    "        print(\"It was uploaded the file\", \"'\" + file + \"'\", \".\")\n",
    "    except ClientError as e:\n",
    "        logging.error(e)"
   ]
  },
  {
   "cell_type": "markdown",
   "metadata": {},
   "source": [
    "### Upload Zeppelin file (model) to bucket "
   ]
  },
  {
   "cell_type": "code",
   "execution_count": 9,
   "metadata": {},
   "outputs": [
    {
     "name": "stdout",
     "output_type": "stream",
     "text": [
      "It was uploaded the file 'zeppelin-tembici-test-fk.json' .\n",
      "It was uploaded the file 'zeppelin-tembici-test-fk.py' .\n"
     ]
    }
   ],
   "source": [
    "files = ['zeppelin-tembici-test-fk.json','zeppelin-tembici-test-fk.py']\n",
    "\n",
    "for file in files: \n",
    "    file_name = dirpath + \"/\" + file\n",
    "    try:\n",
    "        response = s3_client.upload_file(file_name, my_bucket, \"model/\" + file)\n",
    "        print(\"It was uploaded the file\", \"'\" + file + \"'\", \".\")\n",
    "    except ClientError as e:\n",
    "        logging.error(e)"
   ]
  },
  {
   "cell_type": "markdown",
   "metadata": {},
   "source": [
    "## Configurando um Resource Group com o nome de <span style=\"color:red\">rg-tembici-test-fk</span>"
   ]
  },
  {
   "cell_type": "code",
   "execution_count": 10,
   "metadata": {},
   "outputs": [
    {
     "name": "stdout",
     "output_type": "stream",
     "text": [
      "Resource Group was created.\n"
     ]
    }
   ],
   "source": [
    "my_resource_group = \"rg-tembici-test-fk\"\n",
    "RG_client = boto3.client('resource-groups')\n",
    "\n",
    "#AWS::AllSupported\n",
    "#AWS::S3::Bucket\n",
    "query = {\n",
    "    \"ResourceTypeFilters\": [\"AWS::AllSupported\"],\n",
    "    \"TagFilters\":  [{\n",
    "        \"Key\": my_tag[0].get(\"Key\"),\n",
    "        \"Values\": [\"\"]\n",
    "    }] \n",
    "}\n",
    "resource_query = {\n",
    "    'Type': 'TAG_FILTERS_1_0',\n",
    "    'Query': json.dumps(query)\n",
    "}\n",
    "client = boto3.client(\"resource-groups\")\n",
    "try:\n",
    "    resp = RG_client.create_group(Name=my_resource_group,ResourceQuery=resource_query)\n",
    "    print(\"Resource Group was created.\")\n",
    "except Exception as e:\n",
    "    print(e)\n"
   ]
  },
  {
   "cell_type": "markdown",
   "metadata": {},
   "source": [
    "### Criacao de um cluster EMR Cluster chamado <span style=\"color:red\">spark-tembici-test-fk</span>\n",
    "\n",
    "Foi escolhido a maquina m4.large pois tem uma dos menores custos."
   ]
  },
  {
   "cell_type": "code",
   "execution_count": 11,
   "metadata": {},
   "outputs": [],
   "source": [
    "emr_client = boto3.client('emr') #region_name='us-east-1'\n",
    "my_emr_cluster = \"spark-tembici-test-fk\"\n",
    "\n",
    "cluster_id = emr_client.run_job_flow(Name=my_emr_cluster, ReleaseLabel='emr-5.29.0',\n",
    "    LogUri='s3://tembici-fk/log/',\n",
    "    Applications=[\n",
    "        {\n",
    "            'Name': 'Spark'\n",
    "        },\n",
    "    ],\n",
    "    Instances={\n",
    "        'InstanceGroups': [\n",
    "            {\n",
    "                'Name': \"Master\",\n",
    "                'Market': 'ON_DEMAND',\n",
    "                'InstanceRole': 'MASTER',\n",
    "                'InstanceType': 'm4.large',\n",
    "                'InstanceCount': 1,\n",
    "            },\n",
    "            {\n",
    "                'Name': \"Slave\",\n",
    "                'Market': 'ON_DEMAND',\n",
    "                'InstanceRole': 'CORE',\n",
    "                'InstanceType': 'm4.large',\n",
    "                'InstanceCount': 2,\n",
    "            }\n",
    "        ],\n",
    "        'KeepJobFlowAliveWhenNoSteps': False,\n",
    "        'TerminationProtected': False,\n",
    "    },\n",
    "    Steps=[\n",
    "        {\n",
    "            'Name': 'Spark application',   \n",
    "                    'ActionOnFailure': 'CONTINUE',\n",
    "                    'HadoopJarStep': {\n",
    "                        'Jar': 'command-runner.jar',\n",
    "                        'Args': [\"spark-submit\",\"--deploy-mode\",\"cluster\",\"s3://tembici-fk/model/zeppelin-tembici-test-fk.py\"]\n",
    "                    }\n",
    "        }        \n",
    "    ],                                    \n",
    "    VisibleToAllUsers=True,\n",
    "    JobFlowRole='EMR_EC2_DefaultRole',\n",
    "    ServiceRole='EMR_DefaultRole',\n",
    "    Tags=[\n",
    "        {\n",
    "            'Key': 'tembici-test-fk',\n",
    "            'Value': ''\n",
    "        },\n",
    "    ],\n",
    ")\n"
   ]
  },
  {
   "cell_type": "code",
   "execution_count": null,
   "metadata": {},
   "outputs": [],
   "source": []
  }
 ],
 "metadata": {
  "kernelspec": {
   "display_name": "Python 3",
   "language": "python",
   "name": "python3"
  },
  "language_info": {
   "codemirror_mode": {
    "name": "ipython",
    "version": 3
   },
   "file_extension": ".py",
   "mimetype": "text/x-python",
   "name": "python",
   "nbconvert_exporter": "python",
   "pygments_lexer": "ipython3",
   "version": "3.7.4"
  }
 },
 "nbformat": 4,
 "nbformat_minor": 2
}
